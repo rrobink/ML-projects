{
  "nbformat": 4,
  "nbformat_minor": 0,
  "metadata": {
    "colab": {
      "name": "AI for smart power systems final project.ipynb",
      "provenance": []
    },
    "kernelspec": {
      "name": "python3",
      "display_name": "Python 3"
    },
    "language_info": {
      "name": "python"
    }
  },
  "cells": [
    {
      "cell_type": "markdown",
      "source": [
        "#Reading and cleaning energy data\n"
      ],
      "metadata": {
        "id": "0I5cYip1nJex"
      }
    },
    {
      "cell_type": "code",
      "execution_count": null,
      "metadata": {
        "colab": {
          "base_uri": "https://localhost:8080/"
        },
        "id": "hK8YjE5fXZZ5",
        "outputId": "30b2374e-db50-43fb-fa6a-d2d73f8ee5a5"
      },
      "outputs": [
        {
          "output_type": "stream",
          "name": "stdout",
          "text": [
            "          DATE_TIME  PLANT_ID       SOURCE_KEY  DC_POWER  AC_POWER  \\\n",
            "0  15-05-2020 00:00   4135001  1BY6WEcLGh8j5v7       0.0       0.0   \n",
            "1  15-05-2020 00:00   4135001  1IF53ai7Xc0U56Y       0.0       0.0   \n",
            "2  15-05-2020 00:00   4135001  3PZuoBAID5Wc2HD       0.0       0.0   \n",
            "3  15-05-2020 00:00   4135001  7JYdWkrLSPkdwr4       0.0       0.0   \n",
            "4  15-05-2020 00:00   4135001  McdE0feGgRqW7Ca       0.0       0.0   \n",
            "\n",
            "   DAILY_YIELD  TOTAL_YIELD  \n",
            "0          0.0    6259559.0  \n",
            "1          0.0    6183645.0  \n",
            "2          0.0    6987759.0  \n",
            "3          0.0    7602960.0  \n",
            "4          0.0    7158964.0  \n",
            "<class 'pandas.core.frame.DataFrame'>\n",
            "RangeIndex: 68778 entries, 0 to 68777\n",
            "Data columns (total 7 columns):\n",
            " #   Column       Non-Null Count  Dtype  \n",
            "---  ------       --------------  -----  \n",
            " 0   DATE_TIME    68778 non-null  object \n",
            " 1   PLANT_ID     68778 non-null  int64  \n",
            " 2   SOURCE_KEY   68778 non-null  object \n",
            " 3   DC_POWER     68778 non-null  float64\n",
            " 4   AC_POWER     68778 non-null  float64\n",
            " 5   DAILY_YIELD  68778 non-null  float64\n",
            " 6   TOTAL_YIELD  68778 non-null  float64\n",
            "dtypes: float64(4), int64(1), object(2)\n",
            "memory usage: 3.7+ MB\n",
            "             DATE_TIME  DC_POWER\n",
            "0     15-05-2020 00:00       0.0\n",
            "1     15-05-2020 00:15       0.0\n",
            "2     15-05-2020 00:30       0.0\n",
            "3     15-05-2020 00:45       0.0\n",
            "4     15-05-2020 01:00       0.0\n",
            "...                ...       ...\n",
            "3153  17-06-2020 22:45       0.0\n",
            "3154  17-06-2020 23:00       0.0\n",
            "3155  17-06-2020 23:15       0.0\n",
            "3156  17-06-2020 23:30       0.0\n",
            "3157  17-06-2020 23:45       0.0\n",
            "\n",
            "[3158 rows x 2 columns]\n"
          ]
        }
      ],
      "source": [
        "import numpy as np\n",
        "import pandas as pd\n",
        "import matplotlib.pyplot as plt\n",
        "from warnings import filterwarnings\n",
        "filterwarnings('ignore')\n",
        "\n",
        "Edata = pd.read_csv('Plant_1_Generation_Data.csv', date_parser = True) #Energy Data\n",
        "print(Edata.head())\n",
        "Edata.info()\n",
        "\n",
        "Edata=Edata.drop(['PLANT_ID', 'AC_POWER', 'SOURCE_KEY',\n",
        "                  'DAILY_YIELD', 'TOTAL_YIELD'], axis=1)\n",
        "\n",
        "\n",
        "Edata = Edata.drop_duplicates(subset='DATE_TIME', keep='first')\n",
        "Edata = Edata.reset_index(drop=True)\n",
        "print(Edata)\n"
      ]
    },
    {
      "cell_type": "markdown",
      "source": [
        "#Reading and cleaning weather data"
      ],
      "metadata": {
        "id": "RUI11uqtolA-"
      }
    },
    {
      "cell_type": "code",
      "source": [
        "Wdata = pd.read_csv('Plant_1_Weather_Sensor_Data.csv', date_parser = True) #Weather Data\n",
        "print(Wdata.head())\n",
        "Wdata.info()\n",
        "\n",
        "Wdata=Wdata.drop(['PLANT_ID', 'SOURCE_KEY', 'DATE_TIME'], axis=1)\n",
        "\n",
        "print(Wdata)\n"
      ],
      "metadata": {
        "colab": {
          "base_uri": "https://localhost:8080/"
        },
        "id": "8L6HLPT7okml",
        "outputId": "c452d511-1911-4c65-9908-2dd53fee6d41"
      },
      "execution_count": null,
      "outputs": [
        {
          "output_type": "stream",
          "name": "stdout",
          "text": [
            "             DATE_TIME  PLANT_ID       SOURCE_KEY  AMBIENT_TEMPERATURE  \\\n",
            "0  2020-05-15 00:00:00   4135001  HmiyD2TTLFNqkNe            25.184316   \n",
            "1  2020-05-15 00:15:00   4135001  HmiyD2TTLFNqkNe            25.084589   \n",
            "2  2020-05-15 00:30:00   4135001  HmiyD2TTLFNqkNe            24.935753   \n",
            "3  2020-05-15 00:45:00   4135001  HmiyD2TTLFNqkNe            24.846130   \n",
            "4  2020-05-15 01:00:00   4135001  HmiyD2TTLFNqkNe            24.621525   \n",
            "\n",
            "   MODULE_TEMPERATURE  IRRADIATION  \n",
            "0           22.857507          0.0  \n",
            "1           22.761668          0.0  \n",
            "2           22.592306          0.0  \n",
            "3           22.360852          0.0  \n",
            "4           22.165423          0.0  \n",
            "<class 'pandas.core.frame.DataFrame'>\n",
            "RangeIndex: 3182 entries, 0 to 3181\n",
            "Data columns (total 6 columns):\n",
            " #   Column               Non-Null Count  Dtype  \n",
            "---  ------               --------------  -----  \n",
            " 0   DATE_TIME            3182 non-null   object \n",
            " 1   PLANT_ID             3182 non-null   int64  \n",
            " 2   SOURCE_KEY           3182 non-null   object \n",
            " 3   AMBIENT_TEMPERATURE  3182 non-null   float64\n",
            " 4   MODULE_TEMPERATURE   3182 non-null   float64\n",
            " 5   IRRADIATION          3182 non-null   float64\n",
            "dtypes: float64(3), int64(1), object(2)\n",
            "memory usage: 149.3+ KB\n",
            "      AMBIENT_TEMPERATURE  MODULE_TEMPERATURE  IRRADIATION\n",
            "0               25.184316           22.857507          0.0\n",
            "1               25.084589           22.761668          0.0\n",
            "2               24.935753           22.592306          0.0\n",
            "3               24.846130           22.360852          0.0\n",
            "4               24.621525           22.165423          0.0\n",
            "...                   ...                 ...          ...\n",
            "3177            22.150570           21.480377          0.0\n",
            "3178            22.129816           21.389024          0.0\n",
            "3179            22.008275           20.709211          0.0\n",
            "3180            21.969495           20.734963          0.0\n",
            "3181            21.909288           20.427972          0.0\n",
            "\n",
            "[3182 rows x 3 columns]\n"
          ]
        }
      ]
    },
    {
      "cell_type": "markdown",
      "source": [
        "#Merging the two dataframes and final data cleaning"
      ],
      "metadata": {
        "id": "fbQZgEwG5QiB"
      }
    },
    {
      "cell_type": "code",
      "source": [
        "#Combining the energy and weather data into a single dataframe\n",
        "data = pd.concat([Edata, Wdata], axis=1)\n",
        "#Dropping all rows containing NaN-values\n",
        "data = data.dropna()\n",
        "\n",
        "data.info()\n",
        "data"
      ],
      "metadata": {
        "colab": {
          "base_uri": "https://localhost:8080/",
          "height": 632
        },
        "id": "oPE_H4FtwxpO",
        "outputId": "df87c438-63b0-425c-ce2a-24f94ef8cb88"
      },
      "execution_count": null,
      "outputs": [
        {
          "output_type": "stream",
          "name": "stdout",
          "text": [
            "<class 'pandas.core.frame.DataFrame'>\n",
            "Int64Index: 3158 entries, 0 to 3157\n",
            "Data columns (total 5 columns):\n",
            " #   Column               Non-Null Count  Dtype  \n",
            "---  ------               --------------  -----  \n",
            " 0   DATE_TIME            3158 non-null   object \n",
            " 1   DC_POWER             3158 non-null   float64\n",
            " 2   AMBIENT_TEMPERATURE  3158 non-null   float64\n",
            " 3   MODULE_TEMPERATURE   3158 non-null   float64\n",
            " 4   IRRADIATION          3158 non-null   float64\n",
            "dtypes: float64(4), object(1)\n",
            "memory usage: 148.0+ KB\n"
          ]
        },
        {
          "output_type": "execute_result",
          "data": {
            "text/plain": [
              "             DATE_TIME  DC_POWER  AMBIENT_TEMPERATURE  MODULE_TEMPERATURE  \\\n",
              "0     15-05-2020 00:00       0.0            25.184316           22.857507   \n",
              "1     15-05-2020 00:15       0.0            25.084589           22.761668   \n",
              "2     15-05-2020 00:30       0.0            24.935753           22.592306   \n",
              "3     15-05-2020 00:45       0.0            24.846130           22.360852   \n",
              "4     15-05-2020 01:00       0.0            24.621525           22.165423   \n",
              "...                ...       ...                  ...                 ...   \n",
              "3153  17-06-2020 22:45       0.0            24.291896           26.972266   \n",
              "3154  17-06-2020 23:00       0.0            24.191860           25.512402   \n",
              "3155  17-06-2020 23:15       0.0            24.196167           26.664971   \n",
              "3156  17-06-2020 23:30       0.0            24.278404           26.862443   \n",
              "3157  17-06-2020 23:45       0.0            24.174170           25.950272   \n",
              "\n",
              "      IRRADIATION  \n",
              "0        0.000000  \n",
              "1        0.000000  \n",
              "2        0.000000  \n",
              "3        0.000000  \n",
              "4        0.000000  \n",
              "...           ...  \n",
              "3153     0.071616  \n",
              "3154     0.086473  \n",
              "3155     0.104762  \n",
              "3156     0.090132  \n",
              "3157     0.065259  \n",
              "\n",
              "[3158 rows x 5 columns]"
            ],
            "text/html": [
              "\n",
              "  <div id=\"df-b34e2216-6858-4020-9251-4652dad63017\">\n",
              "    <div class=\"colab-df-container\">\n",
              "      <div>\n",
              "<style scoped>\n",
              "    .dataframe tbody tr th:only-of-type {\n",
              "        vertical-align: middle;\n",
              "    }\n",
              "\n",
              "    .dataframe tbody tr th {\n",
              "        vertical-align: top;\n",
              "    }\n",
              "\n",
              "    .dataframe thead th {\n",
              "        text-align: right;\n",
              "    }\n",
              "</style>\n",
              "<table border=\"1\" class=\"dataframe\">\n",
              "  <thead>\n",
              "    <tr style=\"text-align: right;\">\n",
              "      <th></th>\n",
              "      <th>DATE_TIME</th>\n",
              "      <th>DC_POWER</th>\n",
              "      <th>AMBIENT_TEMPERATURE</th>\n",
              "      <th>MODULE_TEMPERATURE</th>\n",
              "      <th>IRRADIATION</th>\n",
              "    </tr>\n",
              "  </thead>\n",
              "  <tbody>\n",
              "    <tr>\n",
              "      <th>0</th>\n",
              "      <td>15-05-2020 00:00</td>\n",
              "      <td>0.0</td>\n",
              "      <td>25.184316</td>\n",
              "      <td>22.857507</td>\n",
              "      <td>0.000000</td>\n",
              "    </tr>\n",
              "    <tr>\n",
              "      <th>1</th>\n",
              "      <td>15-05-2020 00:15</td>\n",
              "      <td>0.0</td>\n",
              "      <td>25.084589</td>\n",
              "      <td>22.761668</td>\n",
              "      <td>0.000000</td>\n",
              "    </tr>\n",
              "    <tr>\n",
              "      <th>2</th>\n",
              "      <td>15-05-2020 00:30</td>\n",
              "      <td>0.0</td>\n",
              "      <td>24.935753</td>\n",
              "      <td>22.592306</td>\n",
              "      <td>0.000000</td>\n",
              "    </tr>\n",
              "    <tr>\n",
              "      <th>3</th>\n",
              "      <td>15-05-2020 00:45</td>\n",
              "      <td>0.0</td>\n",
              "      <td>24.846130</td>\n",
              "      <td>22.360852</td>\n",
              "      <td>0.000000</td>\n",
              "    </tr>\n",
              "    <tr>\n",
              "      <th>4</th>\n",
              "      <td>15-05-2020 01:00</td>\n",
              "      <td>0.0</td>\n",
              "      <td>24.621525</td>\n",
              "      <td>22.165423</td>\n",
              "      <td>0.000000</td>\n",
              "    </tr>\n",
              "    <tr>\n",
              "      <th>...</th>\n",
              "      <td>...</td>\n",
              "      <td>...</td>\n",
              "      <td>...</td>\n",
              "      <td>...</td>\n",
              "      <td>...</td>\n",
              "    </tr>\n",
              "    <tr>\n",
              "      <th>3153</th>\n",
              "      <td>17-06-2020 22:45</td>\n",
              "      <td>0.0</td>\n",
              "      <td>24.291896</td>\n",
              "      <td>26.972266</td>\n",
              "      <td>0.071616</td>\n",
              "    </tr>\n",
              "    <tr>\n",
              "      <th>3154</th>\n",
              "      <td>17-06-2020 23:00</td>\n",
              "      <td>0.0</td>\n",
              "      <td>24.191860</td>\n",
              "      <td>25.512402</td>\n",
              "      <td>0.086473</td>\n",
              "    </tr>\n",
              "    <tr>\n",
              "      <th>3155</th>\n",
              "      <td>17-06-2020 23:15</td>\n",
              "      <td>0.0</td>\n",
              "      <td>24.196167</td>\n",
              "      <td>26.664971</td>\n",
              "      <td>0.104762</td>\n",
              "    </tr>\n",
              "    <tr>\n",
              "      <th>3156</th>\n",
              "      <td>17-06-2020 23:30</td>\n",
              "      <td>0.0</td>\n",
              "      <td>24.278404</td>\n",
              "      <td>26.862443</td>\n",
              "      <td>0.090132</td>\n",
              "    </tr>\n",
              "    <tr>\n",
              "      <th>3157</th>\n",
              "      <td>17-06-2020 23:45</td>\n",
              "      <td>0.0</td>\n",
              "      <td>24.174170</td>\n",
              "      <td>25.950272</td>\n",
              "      <td>0.065259</td>\n",
              "    </tr>\n",
              "  </tbody>\n",
              "</table>\n",
              "<p>3158 rows × 5 columns</p>\n",
              "</div>\n",
              "      <button class=\"colab-df-convert\" onclick=\"convertToInteractive('df-b34e2216-6858-4020-9251-4652dad63017')\"\n",
              "              title=\"Convert this dataframe to an interactive table.\"\n",
              "              style=\"display:none;\">\n",
              "        \n",
              "  <svg xmlns=\"http://www.w3.org/2000/svg\" height=\"24px\"viewBox=\"0 0 24 24\"\n",
              "       width=\"24px\">\n",
              "    <path d=\"M0 0h24v24H0V0z\" fill=\"none\"/>\n",
              "    <path d=\"M18.56 5.44l.94 2.06.94-2.06 2.06-.94-2.06-.94-.94-2.06-.94 2.06-2.06.94zm-11 1L8.5 8.5l.94-2.06 2.06-.94-2.06-.94L8.5 2.5l-.94 2.06-2.06.94zm10 10l.94 2.06.94-2.06 2.06-.94-2.06-.94-.94-2.06-.94 2.06-2.06.94z\"/><path d=\"M17.41 7.96l-1.37-1.37c-.4-.4-.92-.59-1.43-.59-.52 0-1.04.2-1.43.59L10.3 9.45l-7.72 7.72c-.78.78-.78 2.05 0 2.83L4 21.41c.39.39.9.59 1.41.59.51 0 1.02-.2 1.41-.59l7.78-7.78 2.81-2.81c.8-.78.8-2.07 0-2.86zM5.41 20L4 18.59l7.72-7.72 1.47 1.35L5.41 20z\"/>\n",
              "  </svg>\n",
              "      </button>\n",
              "      \n",
              "  <style>\n",
              "    .colab-df-container {\n",
              "      display:flex;\n",
              "      flex-wrap:wrap;\n",
              "      gap: 12px;\n",
              "    }\n",
              "\n",
              "    .colab-df-convert {\n",
              "      background-color: #E8F0FE;\n",
              "      border: none;\n",
              "      border-radius: 50%;\n",
              "      cursor: pointer;\n",
              "      display: none;\n",
              "      fill: #1967D2;\n",
              "      height: 32px;\n",
              "      padding: 0 0 0 0;\n",
              "      width: 32px;\n",
              "    }\n",
              "\n",
              "    .colab-df-convert:hover {\n",
              "      background-color: #E2EBFA;\n",
              "      box-shadow: 0px 1px 2px rgba(60, 64, 67, 0.3), 0px 1px 3px 1px rgba(60, 64, 67, 0.15);\n",
              "      fill: #174EA6;\n",
              "    }\n",
              "\n",
              "    [theme=dark] .colab-df-convert {\n",
              "      background-color: #3B4455;\n",
              "      fill: #D2E3FC;\n",
              "    }\n",
              "\n",
              "    [theme=dark] .colab-df-convert:hover {\n",
              "      background-color: #434B5C;\n",
              "      box-shadow: 0px 1px 3px 1px rgba(0, 0, 0, 0.15);\n",
              "      filter: drop-shadow(0px 1px 2px rgba(0, 0, 0, 0.3));\n",
              "      fill: #FFFFFF;\n",
              "    }\n",
              "  </style>\n",
              "\n",
              "      <script>\n",
              "        const buttonEl =\n",
              "          document.querySelector('#df-b34e2216-6858-4020-9251-4652dad63017 button.colab-df-convert');\n",
              "        buttonEl.style.display =\n",
              "          google.colab.kernel.accessAllowed ? 'block' : 'none';\n",
              "\n",
              "        async function convertToInteractive(key) {\n",
              "          const element = document.querySelector('#df-b34e2216-6858-4020-9251-4652dad63017');\n",
              "          const dataTable =\n",
              "            await google.colab.kernel.invokeFunction('convertToInteractive',\n",
              "                                                     [key], {});\n",
              "          if (!dataTable) return;\n",
              "\n",
              "          const docLinkHtml = 'Like what you see? Visit the ' +\n",
              "            '<a target=\"_blank\" href=https://colab.research.google.com/notebooks/data_table.ipynb>data table notebook</a>'\n",
              "            + ' to learn more about interactive tables.';\n",
              "          element.innerHTML = '';\n",
              "          dataTable['output_type'] = 'display_data';\n",
              "          await google.colab.output.renderOutput(dataTable, element);\n",
              "          const docLink = document.createElement('div');\n",
              "          docLink.innerHTML = docLinkHtml;\n",
              "          element.appendChild(docLink);\n",
              "        }\n",
              "      </script>\n",
              "    </div>\n",
              "  </div>\n",
              "  "
            ]
          },
          "metadata": {},
          "execution_count": 4
        }
      ]
    },
    {
      "cell_type": "markdown",
      "source": [
        "#Data analysis and preprocessing"
      ],
      "metadata": {
        "id": "58Izlh2O6q_Y"
      }
    },
    {
      "cell_type": "code",
      "source": [
        "#Splitting the data into train_set, which contains 80% of the data and test_set\n",
        "#which contains 20% of the data\n",
        "train_set, test_set= np.split(data, [int(.8 *len(data))]).copy() \n",
        "print(train_set)\n",
        "print(test_set)\n"
      ],
      "metadata": {
        "colab": {
          "base_uri": "https://localhost:8080/"
        },
        "id": "lOA6hk1d6qZW",
        "outputId": "7d966d4a-c01e-41ca-adae-cd70da656404"
      },
      "execution_count": null,
      "outputs": [
        {
          "output_type": "stream",
          "name": "stdout",
          "text": [
            "             DATE_TIME     DC_POWER  AMBIENT_TEMPERATURE  MODULE_TEMPERATURE  \\\n",
            "0     15-05-2020 00:00     0.000000            25.184316           22.857507   \n",
            "1     15-05-2020 00:15     0.000000            25.084589           22.761668   \n",
            "2     15-05-2020 00:30     0.000000            24.935753           22.592306   \n",
            "3     15-05-2020 00:45     0.000000            24.846130           22.360852   \n",
            "4     15-05-2020 01:00     0.000000            24.621525           22.165423   \n",
            "...                ...          ...                  ...                 ...   \n",
            "2521  11-06-2020 08:15  2702.714286            21.722754           20.269165   \n",
            "2522  11-06-2020 08:30  2826.875000            21.639461           20.067592   \n",
            "2523  11-06-2020 08:45  3176.714286            21.511770           19.800008   \n",
            "2524  11-06-2020 09:00  3524.625000            21.408012           19.598836   \n",
            "2525  11-06-2020 09:15  3906.428571            21.252618           19.653347   \n",
            "\n",
            "      IRRADIATION  \n",
            "0             0.0  \n",
            "1             0.0  \n",
            "2             0.0  \n",
            "3             0.0  \n",
            "4             0.0  \n",
            "...           ...  \n",
            "2521          0.0  \n",
            "2522          0.0  \n",
            "2523          0.0  \n",
            "2524          0.0  \n",
            "2525          0.0  \n",
            "\n",
            "[2526 rows x 5 columns]\n",
            "             DATE_TIME     DC_POWER  AMBIENT_TEMPERATURE  MODULE_TEMPERATURE  \\\n",
            "2526  11-06-2020 09:30  4156.250000            21.170427           19.669116   \n",
            "2527  11-06-2020 09:45  4452.285714            21.137506           19.666156   \n",
            "2528  11-06-2020 10:00  4785.000000            21.111489           19.494969   \n",
            "2529  11-06-2020 10:15  5215.571429            21.151516           19.529553   \n",
            "2530  11-06-2020 10:30  5336.142857            21.679722           19.959000   \n",
            "...                ...          ...                  ...                 ...   \n",
            "3153  17-06-2020 22:45     0.000000            24.291896           26.972266   \n",
            "3154  17-06-2020 23:00     0.000000            24.191860           25.512402   \n",
            "3155  17-06-2020 23:15     0.000000            24.196167           26.664971   \n",
            "3156  17-06-2020 23:30     0.000000            24.278404           26.862443   \n",
            "3157  17-06-2020 23:45     0.000000            24.174170           25.950272   \n",
            "\n",
            "      IRRADIATION  \n",
            "2526     0.000000  \n",
            "2527     0.000000  \n",
            "2528     0.000000  \n",
            "2529     0.000000  \n",
            "2530     0.000000  \n",
            "...           ...  \n",
            "3153     0.071616  \n",
            "3154     0.086473  \n",
            "3155     0.104762  \n",
            "3156     0.090132  \n",
            "3157     0.065259  \n",
            "\n",
            "[632 rows x 5 columns]\n"
          ]
        }
      ]
    },
    {
      "cell_type": "code",
      "source": [
        "#Dropping 'DATE_TIME' column as it is no longer needed\n",
        "training_data = train_set.drop(['DATE_TIME'], axis=1)\n",
        "training_data.head()"
      ],
      "metadata": {
        "colab": {
          "base_uri": "https://localhost:8080/",
          "height": 206
        },
        "id": "uVKIiVDtAfHg",
        "outputId": "07f227f6-19e5-4a22-e035-fd8c590b4801"
      },
      "execution_count": null,
      "outputs": [
        {
          "output_type": "execute_result",
          "data": {
            "text/plain": [
              "   DC_POWER  AMBIENT_TEMPERATURE  MODULE_TEMPERATURE  IRRADIATION\n",
              "0       0.0            25.184316           22.857507          0.0\n",
              "1       0.0            25.084589           22.761668          0.0\n",
              "2       0.0            24.935753           22.592306          0.0\n",
              "3       0.0            24.846130           22.360852          0.0\n",
              "4       0.0            24.621525           22.165423          0.0"
            ],
            "text/html": [
              "\n",
              "  <div id=\"df-86943476-a75d-4fd5-b9d9-6db69221b0ba\">\n",
              "    <div class=\"colab-df-container\">\n",
              "      <div>\n",
              "<style scoped>\n",
              "    .dataframe tbody tr th:only-of-type {\n",
              "        vertical-align: middle;\n",
              "    }\n",
              "\n",
              "    .dataframe tbody tr th {\n",
              "        vertical-align: top;\n",
              "    }\n",
              "\n",
              "    .dataframe thead th {\n",
              "        text-align: right;\n",
              "    }\n",
              "</style>\n",
              "<table border=\"1\" class=\"dataframe\">\n",
              "  <thead>\n",
              "    <tr style=\"text-align: right;\">\n",
              "      <th></th>\n",
              "      <th>DC_POWER</th>\n",
              "      <th>AMBIENT_TEMPERATURE</th>\n",
              "      <th>MODULE_TEMPERATURE</th>\n",
              "      <th>IRRADIATION</th>\n",
              "    </tr>\n",
              "  </thead>\n",
              "  <tbody>\n",
              "    <tr>\n",
              "      <th>0</th>\n",
              "      <td>0.0</td>\n",
              "      <td>25.184316</td>\n",
              "      <td>22.857507</td>\n",
              "      <td>0.0</td>\n",
              "    </tr>\n",
              "    <tr>\n",
              "      <th>1</th>\n",
              "      <td>0.0</td>\n",
              "      <td>25.084589</td>\n",
              "      <td>22.761668</td>\n",
              "      <td>0.0</td>\n",
              "    </tr>\n",
              "    <tr>\n",
              "      <th>2</th>\n",
              "      <td>0.0</td>\n",
              "      <td>24.935753</td>\n",
              "      <td>22.592306</td>\n",
              "      <td>0.0</td>\n",
              "    </tr>\n",
              "    <tr>\n",
              "      <th>3</th>\n",
              "      <td>0.0</td>\n",
              "      <td>24.846130</td>\n",
              "      <td>22.360852</td>\n",
              "      <td>0.0</td>\n",
              "    </tr>\n",
              "    <tr>\n",
              "      <th>4</th>\n",
              "      <td>0.0</td>\n",
              "      <td>24.621525</td>\n",
              "      <td>22.165423</td>\n",
              "      <td>0.0</td>\n",
              "    </tr>\n",
              "  </tbody>\n",
              "</table>\n",
              "</div>\n",
              "      <button class=\"colab-df-convert\" onclick=\"convertToInteractive('df-86943476-a75d-4fd5-b9d9-6db69221b0ba')\"\n",
              "              title=\"Convert this dataframe to an interactive table.\"\n",
              "              style=\"display:none;\">\n",
              "        \n",
              "  <svg xmlns=\"http://www.w3.org/2000/svg\" height=\"24px\"viewBox=\"0 0 24 24\"\n",
              "       width=\"24px\">\n",
              "    <path d=\"M0 0h24v24H0V0z\" fill=\"none\"/>\n",
              "    <path d=\"M18.56 5.44l.94 2.06.94-2.06 2.06-.94-2.06-.94-.94-2.06-.94 2.06-2.06.94zm-11 1L8.5 8.5l.94-2.06 2.06-.94-2.06-.94L8.5 2.5l-.94 2.06-2.06.94zm10 10l.94 2.06.94-2.06 2.06-.94-2.06-.94-.94-2.06-.94 2.06-2.06.94z\"/><path d=\"M17.41 7.96l-1.37-1.37c-.4-.4-.92-.59-1.43-.59-.52 0-1.04.2-1.43.59L10.3 9.45l-7.72 7.72c-.78.78-.78 2.05 0 2.83L4 21.41c.39.39.9.59 1.41.59.51 0 1.02-.2 1.41-.59l7.78-7.78 2.81-2.81c.8-.78.8-2.07 0-2.86zM5.41 20L4 18.59l7.72-7.72 1.47 1.35L5.41 20z\"/>\n",
              "  </svg>\n",
              "      </button>\n",
              "      \n",
              "  <style>\n",
              "    .colab-df-container {\n",
              "      display:flex;\n",
              "      flex-wrap:wrap;\n",
              "      gap: 12px;\n",
              "    }\n",
              "\n",
              "    .colab-df-convert {\n",
              "      background-color: #E8F0FE;\n",
              "      border: none;\n",
              "      border-radius: 50%;\n",
              "      cursor: pointer;\n",
              "      display: none;\n",
              "      fill: #1967D2;\n",
              "      height: 32px;\n",
              "      padding: 0 0 0 0;\n",
              "      width: 32px;\n",
              "    }\n",
              "\n",
              "    .colab-df-convert:hover {\n",
              "      background-color: #E2EBFA;\n",
              "      box-shadow: 0px 1px 2px rgba(60, 64, 67, 0.3), 0px 1px 3px 1px rgba(60, 64, 67, 0.15);\n",
              "      fill: #174EA6;\n",
              "    }\n",
              "\n",
              "    [theme=dark] .colab-df-convert {\n",
              "      background-color: #3B4455;\n",
              "      fill: #D2E3FC;\n",
              "    }\n",
              "\n",
              "    [theme=dark] .colab-df-convert:hover {\n",
              "      background-color: #434B5C;\n",
              "      box-shadow: 0px 1px 3px 1px rgba(0, 0, 0, 0.15);\n",
              "      filter: drop-shadow(0px 1px 2px rgba(0, 0, 0, 0.3));\n",
              "      fill: #FFFFFF;\n",
              "    }\n",
              "  </style>\n",
              "\n",
              "      <script>\n",
              "        const buttonEl =\n",
              "          document.querySelector('#df-86943476-a75d-4fd5-b9d9-6db69221b0ba button.colab-df-convert');\n",
              "        buttonEl.style.display =\n",
              "          google.colab.kernel.accessAllowed ? 'block' : 'none';\n",
              "\n",
              "        async function convertToInteractive(key) {\n",
              "          const element = document.querySelector('#df-86943476-a75d-4fd5-b9d9-6db69221b0ba');\n",
              "          const dataTable =\n",
              "            await google.colab.kernel.invokeFunction('convertToInteractive',\n",
              "                                                     [key], {});\n",
              "          if (!dataTable) return;\n",
              "\n",
              "          const docLinkHtml = 'Like what you see? Visit the ' +\n",
              "            '<a target=\"_blank\" href=https://colab.research.google.com/notebooks/data_table.ipynb>data table notebook</a>'\n",
              "            + ' to learn more about interactive tables.';\n",
              "          element.innerHTML = '';\n",
              "          dataTable['output_type'] = 'display_data';\n",
              "          await google.colab.output.renderOutput(dataTable, element);\n",
              "          const docLink = document.createElement('div');\n",
              "          docLink.innerHTML = docLinkHtml;\n",
              "          element.appendChild(docLink);\n",
              "        }\n",
              "      </script>\n",
              "    </div>\n",
              "  </div>\n",
              "  "
            ]
          },
          "metadata": {},
          "execution_count": 5
        }
      ]
    },
    {
      "cell_type": "code",
      "source": [
        "from sklearn.preprocessing import MinMaxScaler\n",
        "scaler = MinMaxScaler()\n",
        "training_data = scaler.fit_transform(training_data)\n",
        "training_data\n"
      ],
      "metadata": {
        "colab": {
          "base_uri": "https://localhost:8080/"
        },
        "id": "RbP3LNq9C3ij",
        "outputId": "f63249d8-3bc3-480e-c08c-e6236daf0574"
      },
      "execution_count": null,
      "outputs": [
        {
          "output_type": "execute_result",
          "data": {
            "text/plain": [
              "array([[0.        , 0.32219047, 0.09950559, 0.        ],\n",
              "       [0.        , 0.31547662, 0.09748388, 0.        ],\n",
              "       [0.        , 0.30545668, 0.09391123, 0.        ],\n",
              "       ...,\n",
              "       [0.23822124, 0.07494724, 0.03500859, 0.        ],\n",
              "       [0.264311  , 0.06796205, 0.03076493, 0.        ],\n",
              "       [0.29294239, 0.05750065, 0.03191481, 0.        ]])"
            ]
          },
          "metadata": {},
          "execution_count": 6
        }
      ]
    },
    {
      "cell_type": "code",
      "source": [
        "X_train = []\n",
        "y_train = []"
      ],
      "metadata": {
        "id": "2LvVBuDgDwY3"
      },
      "execution_count": null,
      "outputs": []
    },
    {
      "cell_type": "code",
      "source": [
        "for i in range(96, training_data.shape[0]):\n",
        "    X_train.append(training_data[i-96:i])\n",
        "    y_train.append(training_data[i, 0])"
      ],
      "metadata": {
        "id": "1shAPg9rEE5N"
      },
      "execution_count": null,
      "outputs": []
    },
    {
      "cell_type": "code",
      "source": [
        "X_train, y_train = np.array(X_train), np.array(y_train)"
      ],
      "metadata": {
        "id": "3vUQ0wHoE_Uj"
      },
      "execution_count": null,
      "outputs": []
    },
    {
      "cell_type": "code",
      "source": [
        "X_train.shape, y_train.shape"
      ],
      "metadata": {
        "colab": {
          "base_uri": "https://localhost:8080/"
        },
        "id": "dr1sDWtKFOS8",
        "outputId": "2f6ca3f8-4b0b-4ca1-b024-770d81a79b50"
      },
      "execution_count": null,
      "outputs": [
        {
          "output_type": "execute_result",
          "data": {
            "text/plain": [
              "((2430, 96, 4), (2430,))"
            ]
          },
          "metadata": {},
          "execution_count": 10
        }
      ]
    },
    {
      "cell_type": "markdown",
      "source": [
        "#Creating the RNN-LSTM model"
      ],
      "metadata": {
        "id": "eS4ZYE2tatG7"
      }
    },
    {
      "cell_type": "code",
      "source": [
        "import tensorflow as tf\n",
        "from tensorflow import keras\n",
        "from keras.preprocessing import sequence \n",
        "from keras.models import Sequential \n",
        "from keras.layers import Dense, Dropout, LSTM\n",
        "\n",
        "model = Sequential()\n",
        "model.add(LSTM(units=50, activation = 'relu', return_sequences = True, input_shape=(X_train.shape[1], 4)))\n",
        "model.add(Dropout(0.2))\n",
        "model.add(LSTM(units = 50, activation = 'relu', return_sequences = False))\n",
        "model.add(Dropout(0.2))\n",
        "model.add(Dense(units=1))\n",
        "model.compile(loss='MAE', optimizer='adam')\n",
        "model.summary()\n"
      ],
      "metadata": {
        "colab": {
          "base_uri": "https://localhost:8080/"
        },
        "id": "mDchnOTKasiQ",
        "outputId": "20611786-3c60-4bc5-e49d-b02d2883944d"
      },
      "execution_count": null,
      "outputs": [
        {
          "output_type": "stream",
          "name": "stdout",
          "text": [
            "Model: \"sequential\"\n",
            "_________________________________________________________________\n",
            " Layer (type)                Output Shape              Param #   \n",
            "=================================================================\n",
            " lstm (LSTM)                 (None, 96, 50)            11000     \n",
            "                                                                 \n",
            " dropout (Dropout)           (None, 96, 50)            0         \n",
            "                                                                 \n",
            " lstm_1 (LSTM)               (None, 50)                20200     \n",
            "                                                                 \n",
            " dropout_1 (Dropout)         (None, 50)                0         \n",
            "                                                                 \n",
            " dense (Dense)               (None, 1)                 51        \n",
            "                                                                 \n",
            "=================================================================\n",
            "Total params: 31,251\n",
            "Trainable params: 31,251\n",
            "Non-trainable params: 0\n",
            "_________________________________________________________________\n"
          ]
        }
      ]
    },
    {
      "cell_type": "markdown",
      "source": [
        "#Training the model"
      ],
      "metadata": {
        "id": "s-e73TTQflUv"
      }
    },
    {
      "cell_type": "code",
      "source": [
        "history = model.fit(X_train, y_train, epochs=20, batch_size=20, validation_split=0.2, shuffle=False )"
      ],
      "metadata": {
        "colab": {
          "base_uri": "https://localhost:8080/"
        },
        "id": "UNAw7hCKfn-9",
        "outputId": "d2a3adf3-1d85-4207-b9e7-1150588e3d55"
      },
      "execution_count": null,
      "outputs": [
        {
          "output_type": "stream",
          "name": "stdout",
          "text": [
            "Epoch 1/20\n",
            "98/98 [==============================] - 20s 159ms/step - loss: 0.1513 - val_loss: 0.0918\n",
            "Epoch 2/20\n",
            "98/98 [==============================] - 10s 106ms/step - loss: 0.0974 - val_loss: 0.0737\n",
            "Epoch 3/20\n",
            "98/98 [==============================] - 8s 77ms/step - loss: 0.0763 - val_loss: 0.0683\n",
            "Epoch 4/20\n",
            "98/98 [==============================] - 8s 77ms/step - loss: 0.0759 - val_loss: 0.0630\n",
            "Epoch 5/20\n",
            "98/98 [==============================] - 8s 77ms/step - loss: 0.0741 - val_loss: 0.0619\n",
            "Epoch 6/20\n",
            "98/98 [==============================] - 8s 77ms/step - loss: 0.0705 - val_loss: 0.0615\n",
            "Epoch 7/20\n",
            "98/98 [==============================] - 7s 77ms/step - loss: 0.0675 - val_loss: 0.0588\n",
            "Epoch 8/20\n",
            "98/98 [==============================] - 8s 77ms/step - loss: 0.0658 - val_loss: 0.0590\n",
            "Epoch 9/20\n",
            "98/98 [==============================] - 8s 77ms/step - loss: 0.0660 - val_loss: 0.0562\n",
            "Epoch 10/20\n",
            "98/98 [==============================] - 8s 77ms/step - loss: 0.0632 - val_loss: 0.0562\n",
            "Epoch 11/20\n",
            "98/98 [==============================] - 7s 77ms/step - loss: 0.0640 - val_loss: 0.0547\n",
            "Epoch 12/20\n",
            "98/98 [==============================] - 8s 77ms/step - loss: 0.0627 - val_loss: 0.0534\n",
            "Epoch 13/20\n",
            "98/98 [==============================] - 8s 77ms/step - loss: 0.0604 - val_loss: 0.0539\n",
            "Epoch 14/20\n",
            "98/98 [==============================] - 8s 77ms/step - loss: 0.0589 - val_loss: 0.0533\n",
            "Epoch 15/20\n",
            "98/98 [==============================] - 8s 83ms/step - loss: 0.0579 - val_loss: 0.0521\n",
            "Epoch 16/20\n",
            "98/98 [==============================] - 8s 77ms/step - loss: 0.0579 - val_loss: 0.0540\n",
            "Epoch 17/20\n",
            "98/98 [==============================] - 8s 77ms/step - loss: 0.0599 - val_loss: 0.0513\n",
            "Epoch 18/20\n",
            "98/98 [==============================] - 8s 77ms/step - loss: 0.0554 - val_loss: 0.0498\n",
            "Epoch 19/20\n",
            "98/98 [==============================] - 7s 76ms/step - loss: 0.0552 - val_loss: 0.0498\n",
            "Epoch 20/20\n",
            "98/98 [==============================] - 8s 77ms/step - loss: 0.0572 - val_loss: 0.0505\n"
          ]
        }
      ]
    },
    {
      "cell_type": "code",
      "source": [
        "#Plotting the Mean Absolute Error of the training and validation phase\n",
        "plt.title('Mean Absolute Error')\n",
        "plt.plot(history.history['loss'], label='train')\n",
        "plt.plot(history.history['val_loss'], label='validation')\n",
        "plt.xlabel('epoch')\n",
        "plt.legend()\n",
        "plt.show()"
      ],
      "metadata": {
        "colab": {
          "base_uri": "https://localhost:8080/",
          "height": 295
        },
        "id": "p7sskCg2iBEQ",
        "outputId": "29000f73-92c4-4e64-b751-0d7696c9415e"
      },
      "execution_count": null,
      "outputs": [
        {
          "output_type": "display_data",
          "data": {
            "text/plain": [
              "<Figure size 432x288 with 1 Axes>"
            ],
            "image/png": "[encoded data removed]"
          },
          "metadata": {
            "needs_background": "light"
          }
        }
      ]
    },
    {
      "cell_type": "code",
      "source": [
        "test_set.head()"
      ],
      "metadata": {
        "colab": {
          "base_uri": "https://localhost:8080/",
          "height": 206
        },
        "id": "GWHahY_sHO8E",
        "outputId": "240258da-b9ed-4a4c-9b45-a7ca1034dc48"
      },
      "execution_count": null,
      "outputs": [
        {
          "output_type": "execute_result",
          "data": {
            "text/plain": [
              "             DATE_TIME     DC_POWER  AMBIENT_TEMPERATURE  MODULE_TEMPERATURE  \\\n",
              "2526  11-06-2020 09:30  4156.250000            21.170427           19.669116   \n",
              "2527  11-06-2020 09:45  4452.285714            21.137506           19.666156   \n",
              "2528  11-06-2020 10:00  4785.000000            21.111489           19.494969   \n",
              "2529  11-06-2020 10:15  5215.571429            21.151516           19.529553   \n",
              "2530  11-06-2020 10:30  5336.142857            21.679722           19.959000   \n",
              "\n",
              "      IRRADIATION  \n",
              "2526          0.0  \n",
              "2527          0.0  \n",
              "2528          0.0  \n",
              "2529          0.0  \n",
              "2530          0.0  "
            ],
            "text/html": [
              "\n",
              "  <div id=\"df-9e6c5b1e-29fb-4f16-8cc4-92e2d454c736\">\n",
              "    <div class=\"colab-df-container\">\n",
              "      <div>\n",
              "<style scoped>\n",
              "    .dataframe tbody tr th:only-of-type {\n",
              "        vertical-align: middle;\n",
              "    }\n",
              "\n",
              "    .dataframe tbody tr th {\n",
              "        vertical-align: top;\n",
              "    }\n",
              "\n",
              "    .dataframe thead th {\n",
              "        text-align: right;\n",
              "    }\n",
              "</style>\n",
              "<table border=\"1\" class=\"dataframe\">\n",
              "  <thead>\n",
              "    <tr style=\"text-align: right;\">\n",
              "      <th></th>\n",
              "      <th>DATE_TIME</th>\n",
              "      <th>DC_POWER</th>\n",
              "      <th>AMBIENT_TEMPERATURE</th>\n",
              "      <th>MODULE_TEMPERATURE</th>\n",
              "      <th>IRRADIATION</th>\n",
              "    </tr>\n",
              "  </thead>\n",
              "  <tbody>\n",
              "    <tr>\n",
              "      <th>2526</th>\n",
              "      <td>11-06-2020 09:30</td>\n",
              "      <td>4156.250000</td>\n",
              "      <td>21.170427</td>\n",
              "      <td>19.669116</td>\n",
              "      <td>0.0</td>\n",
              "    </tr>\n",
              "    <tr>\n",
              "      <th>2527</th>\n",
              "      <td>11-06-2020 09:45</td>\n",
              "      <td>4452.285714</td>\n",
              "      <td>21.137506</td>\n",
              "      <td>19.666156</td>\n",
              "      <td>0.0</td>\n",
              "    </tr>\n",
              "    <tr>\n",
              "      <th>2528</th>\n",
              "      <td>11-06-2020 10:00</td>\n",
              "      <td>4785.000000</td>\n",
              "      <td>21.111489</td>\n",
              "      <td>19.494969</td>\n",
              "      <td>0.0</td>\n",
              "    </tr>\n",
              "    <tr>\n",
              "      <th>2529</th>\n",
              "      <td>11-06-2020 10:15</td>\n",
              "      <td>5215.571429</td>\n",
              "      <td>21.151516</td>\n",
              "      <td>19.529553</td>\n",
              "      <td>0.0</td>\n",
              "    </tr>\n",
              "    <tr>\n",
              "      <th>2530</th>\n",
              "      <td>11-06-2020 10:30</td>\n",
              "      <td>5336.142857</td>\n",
              "      <td>21.679722</td>\n",
              "      <td>19.959000</td>\n",
              "      <td>0.0</td>\n",
              "    </tr>\n",
              "  </tbody>\n",
              "</table>\n",
              "</div>\n",
              "      <button class=\"colab-df-convert\" onclick=\"convertToInteractive('df-9e6c5b1e-29fb-4f16-8cc4-92e2d454c736')\"\n",
              "              title=\"Convert this dataframe to an interactive table.\"\n",
              "              style=\"display:none;\">\n",
              "        \n",
              "  <svg xmlns=\"http://www.w3.org/2000/svg\" height=\"24px\"viewBox=\"0 0 24 24\"\n",
              "       width=\"24px\">\n",
              "    <path d=\"M0 0h24v24H0V0z\" fill=\"none\"/>\n",
              "    <path d=\"M18.56 5.44l.94 2.06.94-2.06 2.06-.94-2.06-.94-.94-2.06-.94 2.06-2.06.94zm-11 1L8.5 8.5l.94-2.06 2.06-.94-2.06-.94L8.5 2.5l-.94 2.06-2.06.94zm10 10l.94 2.06.94-2.06 2.06-.94-2.06-.94-.94-2.06-.94 2.06-2.06.94z\"/><path d=\"M17.41 7.96l-1.37-1.37c-.4-.4-.92-.59-1.43-.59-.52 0-1.04.2-1.43.59L10.3 9.45l-7.72 7.72c-.78.78-.78 2.05 0 2.83L4 21.41c.39.39.9.59 1.41.59.51 0 1.02-.2 1.41-.59l7.78-7.78 2.81-2.81c.8-.78.8-2.07 0-2.86zM5.41 20L4 18.59l7.72-7.72 1.47 1.35L5.41 20z\"/>\n",
              "  </svg>\n",
              "      </button>\n",
              "      \n",
              "  <style>\n",
              "    .colab-df-container {\n",
              "      display:flex;\n",
              "      flex-wrap:wrap;\n",
              "      gap: 12px;\n",
              "    }\n",
              "\n",
              "    .colab-df-convert {\n",
              "      background-color: #E8F0FE;\n",
              "      border: none;\n",
              "      border-radius: 50%;\n",
              "      cursor: pointer;\n",
              "      display: none;\n",
              "      fill: #1967D2;\n",
              "      height: 32px;\n",
              "      padding: 0 0 0 0;\n",
              "      width: 32px;\n",
              "    }\n",
              "\n",
              "    .colab-df-convert:hover {\n",
              "      background-color: #E2EBFA;\n",
              "      box-shadow: 0px 1px 2px rgba(60, 64, 67, 0.3), 0px 1px 3px 1px rgba(60, 64, 67, 0.15);\n",
              "      fill: #174EA6;\n",
              "    }\n",
              "\n",
              "    [theme=dark] .colab-df-convert {\n",
              "      background-color: #3B4455;\n",
              "      fill: #D2E3FC;\n",
              "    }\n",
              "\n",
              "    [theme=dark] .colab-df-convert:hover {\n",
              "      background-color: #434B5C;\n",
              "      box-shadow: 0px 1px 3px 1px rgba(0, 0, 0, 0.15);\n",
              "      filter: drop-shadow(0px 1px 2px rgba(0, 0, 0, 0.3));\n",
              "      fill: #FFFFFF;\n",
              "    }\n",
              "  </style>\n",
              "\n",
              "      <script>\n",
              "        const buttonEl =\n",
              "          document.querySelector('#df-9e6c5b1e-29fb-4f16-8cc4-92e2d454c736 button.colab-df-convert');\n",
              "        buttonEl.style.display =\n",
              "          google.colab.kernel.accessAllowed ? 'block' : 'none';\n",
              "\n",
              "        async function convertToInteractive(key) {\n",
              "          const element = document.querySelector('#df-9e6c5b1e-29fb-4f16-8cc4-92e2d454c736');\n",
              "          const dataTable =\n",
              "            await google.colab.kernel.invokeFunction('convertToInteractive',\n",
              "                                                     [key], {});\n",
              "          if (!dataTable) return;\n",
              "\n",
              "          const docLinkHtml = 'Like what you see? Visit the ' +\n",
              "            '<a target=\"_blank\" href=https://colab.research.google.com/notebooks/data_table.ipynb>data table notebook</a>'\n",
              "            + ' to learn more about interactive tables.';\n",
              "          element.innerHTML = '';\n",
              "          dataTable['output_type'] = 'display_data';\n",
              "          await google.colab.output.renderOutput(dataTable, element);\n",
              "          const docLink = document.createElement('div');\n",
              "          docLink.innerHTML = docLinkHtml;\n",
              "          element.appendChild(docLink);\n",
              "        }\n",
              "      </script>\n",
              "    </div>\n",
              "  </div>\n",
              "  "
            ]
          },
          "metadata": {},
          "execution_count": 14
        }
      ]
    },
    {
      "cell_type": "code",
      "source": [
        "past_day = train_set.tail(96)"
      ],
      "metadata": {
        "id": "lpBD63dDHj55"
      },
      "execution_count": null,
      "outputs": []
    },
    {
      "cell_type": "code",
      "source": [
        "df = past_day.append(test_set, ignore_index = True)\n",
        "df = df.drop(['DATE_TIME'], axis=1)\n",
        "df.head()"
      ],
      "metadata": {
        "colab": {
          "base_uri": "https://localhost:8080/",
          "height": 206
        },
        "id": "-wE6C62_IEPa",
        "outputId": "f4c30011-878b-4e9f-f8ae-e1ebda3654ba"
      },
      "execution_count": null,
      "outputs": [
        {
          "output_type": "execute_result",
          "data": {
            "text/plain": [
              "      DC_POWER  AMBIENT_TEMPERATURE  MODULE_TEMPERATURE  IRRADIATION\n",
              "0  8517.375000            21.942822           19.850952          0.0\n",
              "1  5274.000000            21.844206           19.808901          0.0\n",
              "2  4711.000000            21.888639           19.825120          0.0\n",
              "3  6561.714286            21.924648           19.850222          0.0\n",
              "4  5911.375000            21.943217           19.759975          0.0"
            ],
            "text/html": [
              "\n",
              "  <div id=\"df-8ca6ef90-df27-4141-af1d-99bf1ea887ba\">\n",
              "    <div class=\"colab-df-container\">\n",
              "      <div>\n",
              "<style scoped>\n",
              "    .dataframe tbody tr th:only-of-type {\n",
              "        vertical-align: middle;\n",
              "    }\n",
              "\n",
              "    .dataframe tbody tr th {\n",
              "        vertical-align: top;\n",
              "    }\n",
              "\n",
              "    .dataframe thead th {\n",
              "        text-align: right;\n",
              "    }\n",
              "</style>\n",
              "<table border=\"1\" class=\"dataframe\">\n",
              "  <thead>\n",
              "    <tr style=\"text-align: right;\">\n",
              "      <th></th>\n",
              "      <th>DC_POWER</th>\n",
              "      <th>AMBIENT_TEMPERATURE</th>\n",
              "      <th>MODULE_TEMPERATURE</th>\n",
              "      <th>IRRADIATION</th>\n",
              "    </tr>\n",
              "  </thead>\n",
              "  <tbody>\n",
              "    <tr>\n",
              "      <th>0</th>\n",
              "      <td>8517.375000</td>\n",
              "      <td>21.942822</td>\n",
              "      <td>19.850952</td>\n",
              "      <td>0.0</td>\n",
              "    </tr>\n",
              "    <tr>\n",
              "      <th>1</th>\n",
              "      <td>5274.000000</td>\n",
              "      <td>21.844206</td>\n",
              "      <td>19.808901</td>\n",
              "      <td>0.0</td>\n",
              "    </tr>\n",
              "    <tr>\n",
              "      <th>2</th>\n",
              "      <td>4711.000000</td>\n",
              "      <td>21.888639</td>\n",
              "      <td>19.825120</td>\n",
              "      <td>0.0</td>\n",
              "    </tr>\n",
              "    <tr>\n",
              "      <th>3</th>\n",
              "      <td>6561.714286</td>\n",
              "      <td>21.924648</td>\n",
              "      <td>19.850222</td>\n",
              "      <td>0.0</td>\n",
              "    </tr>\n",
              "    <tr>\n",
              "      <th>4</th>\n",
              "      <td>5911.375000</td>\n",
              "      <td>21.943217</td>\n",
              "      <td>19.759975</td>\n",
              "      <td>0.0</td>\n",
              "    </tr>\n",
              "  </tbody>\n",
              "</table>\n",
              "</div>\n",
              "      <button class=\"colab-df-convert\" onclick=\"convertToInteractive('df-8ca6ef90-df27-4141-af1d-99bf1ea887ba')\"\n",
              "              title=\"Convert this dataframe to an interactive table.\"\n",
              "              style=\"display:none;\">\n",
              "        \n",
              "  <svg xmlns=\"http://www.w3.org/2000/svg\" height=\"24px\"viewBox=\"0 0 24 24\"\n",
              "       width=\"24px\">\n",
              "    <path d=\"M0 0h24v24H0V0z\" fill=\"none\"/>\n",
              "    <path d=\"M18.56 5.44l.94 2.06.94-2.06 2.06-.94-2.06-.94-.94-2.06-.94 2.06-2.06.94zm-11 1L8.5 8.5l.94-2.06 2.06-.94-2.06-.94L8.5 2.5l-.94 2.06-2.06.94zm10 10l.94 2.06.94-2.06 2.06-.94-2.06-.94-.94-2.06-.94 2.06-2.06.94z\"/><path d=\"M17.41 7.96l-1.37-1.37c-.4-.4-.92-.59-1.43-.59-.52 0-1.04.2-1.43.59L10.3 9.45l-7.72 7.72c-.78.78-.78 2.05 0 2.83L4 21.41c.39.39.9.59 1.41.59.51 0 1.02-.2 1.41-.59l7.78-7.78 2.81-2.81c.8-.78.8-2.07 0-2.86zM5.41 20L4 18.59l7.72-7.72 1.47 1.35L5.41 20z\"/>\n",
              "  </svg>\n",
              "      </button>\n",
              "      \n",
              "  <style>\n",
              "    .colab-df-container {\n",
              "      display:flex;\n",
              "      flex-wrap:wrap;\n",
              "      gap: 12px;\n",
              "    }\n",
              "\n",
              "    .colab-df-convert {\n",
              "      background-color: #E8F0FE;\n",
              "      border: none;\n",
              "      border-radius: 50%;\n",
              "      cursor: pointer;\n",
              "      display: none;\n",
              "      fill: #1967D2;\n",
              "      height: 32px;\n",
              "      padding: 0 0 0 0;\n",
              "      width: 32px;\n",
              "    }\n",
              "\n",
              "    .colab-df-convert:hover {\n",
              "      background-color: #E2EBFA;\n",
              "      box-shadow: 0px 1px 2px rgba(60, 64, 67, 0.3), 0px 1px 3px 1px rgba(60, 64, 67, 0.15);\n",
              "      fill: #174EA6;\n",
              "    }\n",
              "\n",
              "    [theme=dark] .colab-df-convert {\n",
              "      background-color: #3B4455;\n",
              "      fill: #D2E3FC;\n",
              "    }\n",
              "\n",
              "    [theme=dark] .colab-df-convert:hover {\n",
              "      background-color: #434B5C;\n",
              "      box-shadow: 0px 1px 3px 1px rgba(0, 0, 0, 0.15);\n",
              "      filter: drop-shadow(0px 1px 2px rgba(0, 0, 0, 0.3));\n",
              "      fill: #FFFFFF;\n",
              "    }\n",
              "  </style>\n",
              "\n",
              "      <script>\n",
              "        const buttonEl =\n",
              "          document.querySelector('#df-8ca6ef90-df27-4141-af1d-99bf1ea887ba button.colab-df-convert');\n",
              "        buttonEl.style.display =\n",
              "          google.colab.kernel.accessAllowed ? 'block' : 'none';\n",
              "\n",
              "        async function convertToInteractive(key) {\n",
              "          const element = document.querySelector('#df-8ca6ef90-df27-4141-af1d-99bf1ea887ba');\n",
              "          const dataTable =\n",
              "            await google.colab.kernel.invokeFunction('convertToInteractive',\n",
              "                                                     [key], {});\n",
              "          if (!dataTable) return;\n",
              "\n",
              "          const docLinkHtml = 'Like what you see? Visit the ' +\n",
              "            '<a target=\"_blank\" href=https://colab.research.google.com/notebooks/data_table.ipynb>data table notebook</a>'\n",
              "            + ' to learn more about interactive tables.';\n",
              "          element.innerHTML = '';\n",
              "          dataTable['output_type'] = 'display_data';\n",
              "          await google.colab.output.renderOutput(dataTable, element);\n",
              "          const docLink = document.createElement('div');\n",
              "          docLink.innerHTML = docLinkHtml;\n",
              "          element.appendChild(docLink);\n",
              "        }\n",
              "      </script>\n",
              "    </div>\n",
              "  </div>\n",
              "  "
            ]
          },
          "metadata": {},
          "execution_count": 16
        }
      ]
    },
    {
      "cell_type": "code",
      "source": [
        "inputs = scaler.transform(df)\n",
        "inputs"
      ],
      "metadata": {
        "colab": {
          "base_uri": "https://localhost:8080/"
        },
        "id": "AZdx6pVqJYKf",
        "outputId": "bcbfc68b-11df-466f-e3a9-b39b57b64c28"
      },
      "execution_count": null,
      "outputs": [
        {
          "output_type": "execute_result",
          "data": {
            "text/plain": [
              "array([[0.63871644, 0.10396657, 0.03608324, 0.        ],\n",
              "       [0.39549633, 0.0973275 , 0.03519618, 0.        ],\n",
              "       [0.35327706, 0.10031886, 0.03553832, 0.        ],\n",
              "       ...,\n",
              "       [0.        , 0.25566627, 0.17982285, 0.09101054],\n",
              "       [0.        , 0.26120261, 0.18398846, 0.0783004 ],\n",
              "       [0.        , 0.25418541, 0.16474648, 0.05669224]])"
            ]
          },
          "metadata": {},
          "execution_count": 17
        }
      ]
    },
    {
      "cell_type": "code",
      "source": [
        "X_test = []\n",
        "y_test = []\n",
        "\n",
        "for i in range(96, inputs.shape[0]):\n",
        "    X_test.append(inputs[i-96:i])\n",
        "    y_test.append(inputs[i, 0])"
      ],
      "metadata": {
        "id": "aJtqyLR0LQTF"
      },
      "execution_count": null,
      "outputs": []
    },
    {
      "cell_type": "code",
      "source": [
        "X_test, y_test = np.array(X_test), np.array(y_test)\n",
        "X_test.shape, y_test.shape"
      ],
      "metadata": {
        "colab": {
          "base_uri": "https://localhost:8080/"
        },
        "id": "dFccW3BLLzOI",
        "outputId": "6ec45543-4bd2-46e0-8210-8a4eeaa4a514"
      },
      "execution_count": null,
      "outputs": [
        {
          "output_type": "execute_result",
          "data": {
            "text/plain": [
              "((632, 96, 4), (632,))"
            ]
          },
          "metadata": {},
          "execution_count": 19
        }
      ]
    },
    {
      "cell_type": "code",
      "source": [
        "y_pred = model.predict(X_test)"
      ],
      "metadata": {
        "id": "nMqib2x7MKZQ"
      },
      "execution_count": null,
      "outputs": []
    },
    {
      "cell_type": "code",
      "source": [
        "#Prediction accuracy score on a scale of 0 to 1, 1 = 100% accuracy\n",
        "from sklearn.metrics import r2_score\n",
        "pred_score = r2_score(y_test, y_pred)\n",
        "print(\"The prediction accuracy is :\",pred_score)"
      ],
      "metadata": {
        "colab": {
          "base_uri": "https://localhost:8080/"
        },
        "id": "or0tFl2DQ8c4",
        "outputId": "500b518e-4e1a-43e9-d9e4-154e9d518aba"
      },
      "execution_count": null,
      "outputs": [
        {
          "output_type": "stream",
          "name": "stdout",
          "text": [
            "The prediction accuracy is : 0.8705867146301303\n"
          ]
        }
      ]
    },
    {
      "cell_type": "code",
      "source": [
        "scaler.scale_"
      ],
      "metadata": {
        "colab": {
          "base_uri": "https://localhost:8080/"
        },
        "id": "FdDKmI18MPsW",
        "outputId": "884db6e8-968e-4347-f81d-6795d274adcd"
      },
      "execution_count": null,
      "outputs": [
        {
          "output_type": "execute_result",
          "data": {
            "text/plain": [
              "array([7.49898228e-05, 6.73220184e-02, 2.10946885e-02, 8.68732538e-01])"
            ]
          },
          "metadata": {},
          "execution_count": 22
        }
      ]
    },
    {
      "cell_type": "code",
      "source": [
        "scale = 1/7.49898228e-05\n",
        "scale"
      ],
      "metadata": {
        "colab": {
          "base_uri": "https://localhost:8080/"
        },
        "id": "PCTz3nJONEJq",
        "outputId": "2253a2a5-b6fd-43ba-c8e6-05509c3a3d1a"
      },
      "execution_count": null,
      "outputs": [
        {
          "output_type": "execute_result",
          "data": {
            "text/plain": [
              "13335.142858878711"
            ]
          },
          "metadata": {},
          "execution_count": 23
        }
      ]
    },
    {
      "cell_type": "code",
      "source": [
        "y_pred = y_pred*scale\n",
        "y_test = y_test*scale"
      ],
      "metadata": {
        "id": "FWhBTwmsNRhS"
      },
      "execution_count": null,
      "outputs": []
    },
    {
      "cell_type": "code",
      "source": [
        "#Visualizing the results\n",
        "plt.figure(figsize=(20,5))\n",
        "plt.plot(y_test, color = 'red', label = 'Actual Output')\n",
        "plt.plot(y_pred, color = 'blue', label = 'Predicted Output')\n",
        "plt.title('PV Output Power Prediction')\n",
        "plt.xlabel('Time')\n",
        "plt.ylabel('PV Output Power')\n",
        "plt.legend()\n",
        "plt.show()"
      ],
      "metadata": {
        "colab": {
          "base_uri": "https://localhost:8080/",
          "height": 350
        },
        "id": "fjuIUOm3Nhws",
        "outputId": "5817549a-d340-4c9a-8e56-216d60bf71d2"
      },
      "execution_count": null,
      "outputs": [
        {
          "output_type": "display_data",
          "data": {
            "text/plain": [
              "<Figure size 1440x360 with 1 Axes>"
            ],
            "image/png": "[encoded data removed]"
          },
          "metadata": {
            "needs_background": "light"
          }
        }
      ]
    }
  ]
}